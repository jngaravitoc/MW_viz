{
 "cells": [
  {
   "cell_type": "code",
   "execution_count": 72,
   "id": "004a8252",
   "metadata": {},
   "outputs": [
    {
     "name": "stdout",
     "output_type": "stream",
     "text": [
      "Populating the interactive namespace from numpy and matplotlib\n"
     ]
    }
   ],
   "source": [
    "%pylab inline\n",
    "import numpy as np\n",
    "import astropy \n",
    "import k3d\n",
    "from astropy.io import fits\n",
    "from astropy import units as u\n",
    "import astropy.coordinates as coord\n",
    "from astropy.coordinates import Angle"
   ]
  },
  {
   "cell_type": "code",
   "execution_count": 8,
   "id": "d4644347",
   "metadata": {},
   "outputs": [],
   "source": [
    "#sats_data = fits.util.get_testdata_filepath('../data/NearbyGalaxies_Jan2021_PUBLIC.fits')\n",
    "\n",
    "LV_galaxies = fits.open('../data/NearbyGalaxies_Jan2021_PUBLIC.fits')"
   ]
  },
  {
   "cell_type": "code",
   "execution_count": 11,
   "id": "052ef307",
   "metadata": {},
   "outputs": [
    {
     "name": "stdout",
     "output_type": "stream",
     "text": [
      "Filename: ../data/NearbyGalaxies_Jan2021_PUBLIC.fits\n",
      "No.    Name      Ver    Type      Cards   Dimensions   Format\n",
      "  0  PRIMARY       1 PrimaryHDU      16   (5262,)   uint8   \n",
      "  1  Joined        1 BinTableHDU    125   144R x 49C   [16A, 10A, 11A, E, E, E, E, E, E, E, E, E, E, E, E, E, E, E, E, E, E, E, E, E, E, E, E, E, E, E, E, E, E, E, E, E, E, E, E, E, E, I, E, E, E, E, E, E, 53A]   \n"
     ]
    }
   ],
   "source": [
    "LV_galaxies.info()"
   ]
  },
  {
   "cell_type": "code",
   "execution_count": 19,
   "id": "9abe4ec7",
   "metadata": {},
   "outputs": [
    {
     "data": {
      "text/plain": [
       "XTENSION= 'BINTABLE'           / binary table extension                         \n",
       "BITPIX  =                    8 / 8-bit bytes                                    \n",
       "NAXIS   =                    2 / 2-dimensional table                            \n",
       "NAXIS1  =                  268 / width of table in bytes                        \n",
       "NAXIS2  =                  144 / number of rows in table                        \n",
       "PCOUNT  =                    0 / size of special data area                      \n",
       "GCOUNT  =                    1 / one data group                                 \n",
       "TFIELDS =                   49 / number of columns                              \n",
       "EXTNAME = 'Joined  '           / table name                                     \n",
       "TTYPE1  = 'GalaxyName'         / label for column 1                             \n",
       "TFORM1  = '16A     '           / format for column 1                            \n",
       "TCOMM1  = 'Galaxy name'                                                         \n",
       "TTYPE2  = 'RA      '           / label for column 2                             \n",
       "TFORM2  = '10A     '           / format for column 2                            \n",
       "TCOMM2  = 'Right Ascension (hours minutes seconds)'                             \n",
       "TTYPE3  = 'Dec     '           / label for column 3                             \n",
       "TFORM3  = '11A     '           / format for column 3                            \n",
       "TCOMM3  = 'Declination (degrees arcminutes arcseconds)'                         \n",
       "TTYPE4  = 'EB-V    '           / label for column 4                             \n",
       "TFORM4  = 'E       '           / format for column 4                            \n",
       "TTYPE5  = 'dmod    '           / label for column 5                             \n",
       "TFORM5  = 'E       '           / format for column 5                            \n",
       "TCOMM5  = 'Distance Modulus, (m-M)o err+ err-'                                  \n",
       "TTYPE6  = 'dmod+   '           / label for column 6                             \n",
       "TFORM6  = 'E       '           / format for column 6                            \n",
       "TTYPE7  = 'dmod-   '           / label for column 7                             \n",
       "TFORM7  = 'E       '           / format for column 7                            \n",
       "TTYPE8  = 'vh      '           / label for column 8                             \n",
       "TFORM8  = 'E       '           / format for column 8                            \n",
       "TCOMM8  = 'Heliocentric radial velocity, vh(km/s) err+ err-'                    \n",
       "TTYPE9  = 'vh+     '           / label for column 9                             \n",
       "TFORM9  = 'E       '           / format for column 9                            \n",
       "TTYPE10 = 'vh-     '           / label for column 10                            \n",
       "TFORM10 = 'E       '           / format for column 10                           \n",
       "TTYPE11 = 'Vmag    '           / label for column 11                            \n",
       "TFORM11 = 'E       '           / format for column 11                           \n",
       "TCOMM11 = 'Apparent V magnitude in Vega mags, Vmag err+ err-'                   \n",
       "TTYPE12 = 'Vmag+   '           / label for column 12                            \n",
       "TFORM12 = 'E       '           / format for column 12                           \n",
       "TTYPE13 = 'Vmag-   '           / label for column 13                            \n",
       "TFORM13 = 'E       '           / format for column 13                           \n",
       "TTYPE14 = 'PA      '           / label for column 14                            \n",
       "TFORM14 = 'E       '           / format for column 14                           \n",
       "TTYPE15 = 'PA+     '           / label for column 15                            \n",
       "TFORM15 = 'E       '           / format for column 15                           \n",
       "TTYPE16 = 'PA-     '           / label for column 16                            \n",
       "TFORM16 = 'E       '           / format for column 16                           \n",
       "TTYPE17 = 'e=1-b/a '           / label for column 17                            \n",
       "TFORM17 = 'E       '           / format for column 17                           \n",
       "TCOMM17 = 'Projected ellipticity, e=1-b/a err+ err-'                            \n",
       "TTYPE18 = 'e+      '           / label for column 18                            \n",
       "TFORM18 = 'E       '           / format for column 18                           \n",
       "TTYPE19 = 'e-      '           / label for column 19                            \n",
       "TFORM19 = 'E       '           / format for column 19                           \n",
       "TTYPE20 = 'muVo    '           / label for column 20                            \n",
       "TFORM20 = 'E       '           / format for column 20                           \n",
       "TCOMM20 = 'Central V surface brightness, muVo(mag/sq.arcsec) err+ err-'         \n",
       "TTYPE21 = 'muVo+   '           / label for column 21                            \n",
       "TFORM21 = 'E       '           / format for column 21                           \n",
       "TTYPE22 = 'muVo-   '           / label for column 22                            \n",
       "TFORM22 = 'E       '           / format for column 22                           \n",
       "TTYPE23 = 'rh      '           / label for column 23                            \n",
       "TFORM23 = 'E       '           / format for column 23                           \n",
       "TCOMM23 = 'Half-light radius measured on major axis, rh(arcmins) err+ err-'     \n",
       "TTYPE24 = 'rh+     '           / label for column 24                            \n",
       "TFORM24 = 'E       '           / format for column 24                           \n",
       "TTYPE25 = 'rh-     '           / label for column 25                            \n",
       "TFORM25 = 'E       '           / format for column 25                           \n",
       "TTYPE26 = 'sigma_s '           / label for column 26                            \n",
       "TFORM26 = 'E       '           / format for column 26                           \n",
       "TCOMM26 = 'Stellar radial velocity dispersion, sigma_s(km/s) err+ err-'         \n",
       "TTYPE27 = 'sigma_s+'           / label for column 27                            \n",
       "TFORM27 = 'E       '           / format for column 27                           \n",
       "TTYPE28 = 'sigma_s-'           / label for column 28                            \n",
       "TFORM28 = 'E       '           / format for column 28                           \n",
       "TCOMM28 = 'Stellar peak/max rotation velocity, vrot_s(km/s) err+ err-'          \n",
       "TTYPE29 = 'vrot_s  '           / label for column 29                            \n",
       "TFORM29 = 'E       '           / format for column 29                           \n",
       "TTYPE30 = 'vrot_s+ '           / label for column 30                            \n",
       "TFORM30 = 'E       '           / format for column 30                           \n",
       "TTYPE31 = 'vrot_s- '           / label for column 31                            \n",
       "TFORM31 = 'E       '           / format for column 31                           \n",
       "TTYPE32 = 'MHI     '           / label for column 32                            \n",
       "TFORM32 = 'E       '           / format for column 32                           \n",
       "TTYPE33 = 'sigma_g '           / label for column 33                            \n",
       "TFORM33 = 'E       '           / format for column 33                           \n",
       "TCOMM33 = 'HI radial velocity dispersion, sigma_g(km/s) err+ err-'              \n",
       "TTYPE34 = 'sigma_g+'           / label for column 34                            \n",
       "TFORM34 = 'E       '           / format for column 34                           \n",
       "TTYPE35 = 'sigma_g-'           / label for column 35                            \n",
       "TFORM35 = 'E       '           / format for column 35                           \n",
       "TTYPE36 = 'vrot_g  '           / label for column 36                            \n",
       "TFORM36 = 'E       '           / format for column 36                           \n",
       "TCOMM36 = 'HI peak/max rotation velocity, vrot_g(km/s) err+ err-'               \n",
       "TTYPE37 = 'vrot_g+ '           / label for column 37                            \n",
       "TFORM37 = 'E       '           / format for column 37                           \n",
       "TTYPE38 = 'vrot_g- '           / label for column 38                            \n",
       "TFORM38 = 'E       '           / format for column 38                           \n",
       "TTYPE39 = '[Fe/H]  '           / label for column 39                            \n",
       "TFORM39 = 'E       '           / format for column 39                           \n",
       "TCOMM39 = 'Stellar mean metallicity in dex, [Fe/H] err+ err-'                   \n",
       "TTYPE40 = 'feh+    '           / label for column 40                            \n",
       "TFORM40 = 'E       '           / format for column 40                           \n",
       "TTYPE41 = 'feh-    '           / label for column 41                            \n",
       "TFORM41 = 'E       '           / format for column 41                           \n",
       "TTYPE42 = 'F       '           / label for column 42                            \n",
       "TFORM42 = 'I       '           / format for column 42                           \n",
       "TNULL42 =               -32768 / blank value for column 42                      \n",
       "TTYPE43 = 'pmra    '           / label for column 43                            \n",
       "TFORM43 = 'E       '           / format for column 43                           \n",
       "TTYPE44 = 'epmra+  '           / label for column 44                            \n",
       "TFORM44 = 'E       '           / format for column 44                           \n",
       "TTYPE45 = 'epmra-  '           / label for column 45                            \n",
       "TFORM45 = 'E       '           / format for column 45                           \n",
       "TTYPE46 = 'pmdec   '           / label for column 46                            \n",
       "TFORM46 = 'E       '           / format for column 46                           \n",
       "TTYPE47 = 'epmdec+ '           / label for column 47                            \n",
       "TFORM47 = 'E       '           / format for column 47                           \n",
       "TTYPE48 = 'epmdec- '           / label for column 48                            \n",
       "TFORM48 = 'E       '           / format for column 48                           \n",
       "TTYPE49 = 'References'         / label for column 49                            \n",
       "TFORM49 = '53A     '           / format for column 49                           \n",
       "DATE-HDU= '2021-01-19T19:56:51' / Date of HDU creation (UTC)                    \n",
       "STILVERS= '3.3-3   '           / Version of STIL software                       \n",
       "STILCLAS= 'uk.ac.starlink.votable.FitsPlusTableWriter' / STIL Author class      "
      ]
     },
     "execution_count": 19,
     "metadata": {},
     "output_type": "execute_result"
    }
   ],
   "source": [
    "LV_galaxies[1].header"
   ]
  },
  {
   "cell_type": "code",
   "execution_count": 20,
   "id": "4b9e688a",
   "metadata": {},
   "outputs": [],
   "source": [
    "data = LV_galaxies[1].data"
   ]
  },
  {
   "cell_type": "code",
   "execution_count": 125,
   "id": "4b669def",
   "metadata": {},
   "outputs": [],
   "source": [
    "LV_gal_names = data['GalaxyName']"
   ]
  },
  {
   "cell_type": "code",
   "execution_count": 49,
   "id": "03ec1d3c",
   "metadata": {},
   "outputs": [],
   "source": [
    "LV_gal_RA = data['RA']"
   ]
  },
  {
   "cell_type": "code",
   "execution_count": 50,
   "id": "c455c6b9",
   "metadata": {},
   "outputs": [],
   "source": [
    "LV_gal_DEC = data['Dec']"
   ]
  },
  {
   "cell_type": "code",
   "execution_count": 32,
   "id": "09e78fa8",
   "metadata": {},
   "outputs": [],
   "source": [
    "LV_gal_dmod = data['dmod']"
   ]
  },
  {
   "cell_type": "code",
   "execution_count": 133,
   "id": "06a35811",
   "metadata": {},
   "outputs": [],
   "source": [
    "LV_gal_rh = data['rh']"
   ]
  },
  {
   "cell_type": "code",
   "execution_count": 134,
   "id": "541d09f3",
   "metadata": {},
   "outputs": [
    {
     "data": {
      "text/plain": [
       "array([9.990e+02, 9.990e+02, 1.900e+00, 1.900e+00, 3.000e+00, 2.900e-01,\n",
       "       2.080e+00, 6.000e+00, 1.540e+00, 2.830e+00, 9.990e+02, 8.700e-01,\n",
       "       2.900e+00, 1.300e+00, 1.610e+00, 6.600e-01, 5.590e+00, 2.400e+00,\n",
       "       1.700e+00, 3.900e+00, 6.000e+00, 9.300e+00, 2.100e+00, 3.100e+00,\n",
       "       6.200e+00, 2.200e+00, 2.500e+00, 1.400e+00, 2.300e+00, 3.500e+00,\n",
       "       1.300e+00, 7.100e-01, 1.200e+00, 7.800e-01, 1.700e+00, 6.200e+00,\n",
       "       1.210e+00, 8.900e-01, 1.240e+00, 9.200e-01, 5.300e-01, 3.500e+00,\n",
       "       9.400e-01, 4.600e+00, 2.100e+00, 1.700e+00, 3.000e+00, 1.000e+00,\n",
       "       1.800e+00, 1.110e+00, 1.350e+00, 4.200e+00, 6.500e+00, 1.700e+00,\n",
       "       1.200e+00, 7.620e+01, 7.200e-01, 1.470e+00, 5.100e+00, 1.126e+01,\n",
       "       3.050e+00, 7.600e+00, 8.900e+00, 1.510e+00, 1.143e+01, 8.690e+00,\n",
       "       3.750e+00, 2.880e+00, 3.200e+00, 1.230e+00, 5.630e+00, 3.120e+01,\n",
       "       7.000e-01, 1.040e+00, 6.400e-01, 9.000e-01, 2.680e+00, 9.930e+00,\n",
       "       4.200e-01, 5.000e-01, 1.810e+00, 1.840e+01, 3.200e-01, 9.990e+02,\n",
       "       9.990e+02, 5.990e+00, 1.500e+00, 7.420e+00, 2.650e+00, 6.810e+00,\n",
       "       2.010e+00, 4.800e-01, 9.700e-01, 9.990e+02, 2.800e-01, 6.400e-01,\n",
       "       4.700e-01, 3.600e-01, 5.700e-01, 2.100e+00, 9.990e+02, 3.300e+00,\n",
       "       2.480e+00, 2.610e+00, 1.000e+00, 2.150e+00, 9.990e+02, 1.250e+00,\n",
       "       4.700e-01, 3.170e+00, 2.550e+00, 2.460e+00, 5.000e+00, 4.300e+00,\n",
       "       4.500e-01, 5.160e+00, 2.650e+00, 2.100e+00, 2.300e+00, 3.800e+00,\n",
       "       1.220e+00, 9.990e+02, 9.100e-01, 3.420e+02, 1.233e+01, 3.950e+00,\n",
       "       3.640e+00, 2.780e+01, 2.470e+00, 1.060e+00, 9.990e+02, 1.100e+00,\n",
       "       9.830e+00, 4.100e-01, 4.200e-01, 6.400e-01, 9.400e-01, 9.000e-01,\n",
       "       8.340e+00, 1.395e+01, 1.732e+01, 1.760e+00, 8.620e+00, 2.530e+00],\n",
       "      dtype=float32)"
      ]
     },
     "execution_count": 134,
     "metadata": {},
     "output_type": "execute_result"
    }
   ],
   "source": [
    "LV_gal_rh"
   ]
  },
  {
   "cell_type": "code",
   "execution_count": 137,
   "id": "445693d6",
   "metadata": {},
   "outputs": [
    {
     "data": {
      "text/plain": [
       "chararray(['*Bootes3', '*CanisMajor', '*Cetus2', '*Columba1', '*Draco2',\n",
       "           '*Eridanus3', '*Grus1', '*Grus2', '*Horologium1',\n",
       "           '*Horologium2', '*Hydra1', '*Indus1', '*Indus2', '*Pegasus3',\n",
       "           '*Phoenix2', '*Pictor1', '*Reticulum2', '*Reticulum3',\n",
       "           '*Sagittarius2', '*Triangulum2', '*Tucana3', '*Tucana4',\n",
       "           '*Tucana5', 'AndromedaI', 'AndromedaII', 'AndromedaIII',\n",
       "           'AndromedaIX', 'AndromedaV', 'AndromedaVI', 'AndromedaVII',\n",
       "           'AndromedaX', 'AndromedaXI', 'AndromedaXII', 'AndromedaXIII',\n",
       "           'AndromedaXIV', 'AndromedaXIX', 'AndromedaXV', 'AndromedaXVI',\n",
       "           'AndromedaXVII', 'AndromedaXVIII', 'AndromedaXX',\n",
       "           'AndromedaXXI', 'AndromedaXXII', 'AndromedaXXIII',\n",
       "           'AndromedaXXIV', 'AndromedaXXIX', 'AndromedaXXV',\n",
       "           'AndromedaXXVI', 'AndromedaXXVII', 'AndromedaXXVIII',\n",
       "           'AndromedaXXX', 'AndromedaXXXI', 'AndromedaXXXII',\n",
       "           'AndromedaXXXIII', 'Antlia', 'Antlia2', 'AntliaB', 'Aquarius',\n",
       "           'Aquarius2', 'Bootes(1)', 'Bootes2', 'Bootes4',\n",
       "           'CanesVenatici(1)', 'CanesVenatici2', 'Carina', 'Carina2',\n",
       "           'Carina3', 'Centaurus1', 'Cetus', 'Cetus3', 'ComaBerenices',\n",
       "           'Crater2', 'DDO113', 'DDO125', 'DDO190', 'DDO99',\n",
       "           '*DESJ0225+0304', 'Draco', 'ESO294-G010', 'ESO410-G005',\n",
       "           'Eridanus2', 'Fornax', 'GR8', 'HIZSS3(A)', 'HIZSS3B',\n",
       "           'Hercules', 'Hydra2', 'Hydrus1', 'IC10', 'IC1613', 'IC3104',\n",
       "           'IC4662', 'IC5152', 'KK258', 'KKH86', 'KKH98', 'KKR25', 'KKR3',\n",
       "           'KKs3', 'LGS3', 'LMC', 'Leo1', 'Leo2', 'Leo4', 'Leo5', 'LeoA',\n",
       "           'LeoP', 'LeoT', 'M32', 'NGC147', 'NGC185', 'NGC205', 'NGC300',\n",
       "           'NGC3109', 'NGC4163', 'NGC55', 'NGC6822', 'PegasusdIrr',\n",
       "           'Phoenix', 'Pictor2', 'Pisces2', 'SMC', 'SagittariusdIrr',\n",
       "           'SagittariusdSph', 'Sculptor', 'Segue(1)', 'Segue2',\n",
       "           'Sextans(1)', 'SextansA', 'SextansB', 'Triangulum', 'Tucana',\n",
       "           'Tucana2', 'UGC4879', 'UGC8508', 'UGC9128', 'UGCA86',\n",
       "           'UKS2323-326', 'UrsaMajor(1)', 'UrsaMajor2', 'UrsaMinor',\n",
       "           'Virgo1', 'WLM', 'Willman1'], dtype='<U16')"
      ]
     },
     "execution_count": 137,
     "metadata": {},
     "output_type": "execute_result"
    }
   ],
   "source": [
    "LV_gal_names"
   ]
  },
  {
   "cell_type": "code",
   "execution_count": 111,
   "id": "80671a26",
   "metadata": {},
   "outputs": [
    {
     "data": {
      "text/plain": [
       "array([18.35, 14.29, 17.1 , 21.3 , 16.67, 19.7 , 20.4 , 18.62, 19.5 ,\n",
       "       19.46, 15.52, 20.  , 21.65, 21.56, 19.6 , 20.3 , 17.4 , 19.81,\n",
       "       19.32, 17.4 , 17.01, 18.41, 18.71, 24.36, 24.07, 24.37, 24.42,\n",
       "       24.44, 24.47, 24.41, 24.13, 24.33, 24.84, 24.62, 24.5 , 24.57,\n",
       "       23.98, 23.39, 24.31, 25.42, 24.35, 24.59, 24.82, 24.43, 23.89,\n",
       "       24.32, 24.55, 24.41, 24.59, 24.1 , 24.17, 24.4 , 24.45, 24.44,\n",
       "       25.65, 20.6 , 25.56, 25.15, 20.16, 19.11, 18.1 , 21.6 , 21.69,\n",
       "       21.02, 20.11, 17.79, 17.22, 20.33, 24.39, 22.  , 18.2 , 20.35,\n",
       "       27.35, 27.06, 27.23, 27.07, 16.88, 19.4 , 26.54, 26.42, 22.9 ,\n",
       "       20.84, 26.69, 26.12, 26.12, 20.6 , 20.64, 17.2 , 24.5 , 24.39,\n",
       "       26.78, 26.94, 26.45, 26.85, 27.06, 27.01, 26.42, 26.7 , 26.63,\n",
       "       24.43, 18.52, 22.02, 21.84, 20.94, 21.46, 24.51, 26.05, 23.1 ,\n",
       "       24.53, 24.15, 23.95, 24.58, 26.59, 25.57, 27.28, 26.43, 23.31,\n",
       "       24.82, 23.06, 18.3 , 21.31, 19.03, 25.14, 17.1 , 19.67, 16.8 ,\n",
       "       17.7 , 19.67, 25.78, 25.77, 24.54, 24.74, 18.8 , 25.67, 27.06,\n",
       "       26.8 , 27.36, 26.72, 19.93, 17.5 , 19.4 , 19.8 , 24.85, 17.9 ],\n",
       "      dtype=float32)"
      ]
     },
     "execution_count": 111,
     "metadata": {},
     "output_type": "execute_result"
    }
   ],
   "source": [
    "LV_gal_dmod"
   ]
  },
  {
   "cell_type": "code",
   "execution_count": 41,
   "id": "4ef6eafc",
   "metadata": {},
   "outputs": [],
   "source": [
    "dsat = (10**(LV_gal_dmod/5 + 1)) * u.pc"
   ]
  },
  {
   "cell_type": "code",
   "execution_count": 99,
   "id": "7694621f",
   "metadata": {},
   "outputs": [
    {
     "data": {
      "text/latex": [
       "$[46.773525,~7.2110763,~26.302685,~\\dots,~91.201096,~933.25494,~38.018936] \\; \\mathrm{kpc}$"
      ],
      "text/plain": [
       "<Quantity [  46.773525 ,    7.2110763,   26.302685 ,  181.96999  ,\n",
       "             21.57745  ,   87.096375 ,  120.226425 ,   52.966343 ,\n",
       "             79.432846 ,   77.98296  ,   12.705745 ,  100.00001  ,\n",
       "            213.79619  ,  205.11613  ,   83.17639  ,  114.815346 ,\n",
       "             30.199518 ,   91.622025 ,   73.113884 ,   30.199518 ,\n",
       "             25.234806 ,   48.083954 ,   55.2077   ,  744.7324   ,\n",
       "            651.6286   ,  748.1697   ,  765.5964   ,  772.68066  ,\n",
       "            783.4298   ,  762.079    ,  669.8842   ,  734.5142   ,\n",
       "            928.9663   ,  839.4605   ,  794.3285   ,  820.3517   ,\n",
       "            625.1727   ,  476.431    ,  727.77985  , 1213.3892   ,\n",
       "            741.3101   ,  827.9426   ,  920.4491   ,  769.13074  ,\n",
       "            599.79095  ,  731.13885  ,  812.83026  ,  762.079    ,\n",
       "            827.9426   ,  660.6937   ,  682.3389   ,  758.57776  ,\n",
       "            776.2478   ,  772.68066  , 1348.9633   ,  131.82565  ,\n",
       "           1294.1958   , 1071.5187   ,  107.646545 ,   66.37431  ,\n",
       "             41.686928 ,  208.92972  ,  217.77113  ,  159.95581  ,\n",
       "            105.19627  ,   36.140995 ,   27.79712  ,  116.412605 ,\n",
       "            755.0919   ,  251.18872  ,   43.65162  ,  117.48981  ,\n",
       "           2951.2112   , 2582.2585   , 2792.5447   , 2594.1797   ,\n",
       "             23.7684   ,   75.85779  , 2032.3574   , 1923.0914   ,\n",
       "            380.18936  ,  147.23134  , 2177.7114   , 1674.9429   ,\n",
       "           1674.9429   ,  131.82565  ,  134.27643  ,   27.542292 ,\n",
       "            794.3285   ,  755.0919   , 2269.8645   , 2443.4307   ,\n",
       "           1949.8445   , 2344.2283   , 2582.2585   , 2523.4807   ,\n",
       "           1923.0914   , 2187.7627   , 2118.3599   ,  769.13074  ,\n",
       "             50.582466 ,  253.51305  ,  233.34584  ,  154.17012  ,\n",
       "            195.8844   ,  797.9947   , 1621.8103   ,  416.8693   ,\n",
       "            805.3787   ,  676.0829   ,  616.595    ,  824.13794  ,\n",
       "           2079.696    , 1300.1692   , 2857.5928   , 1931.9695   ,\n",
       "            459.19772  ,  920.4491   ,  409.26068  ,   45.708805 ,\n",
       "            182.81007  ,   63.973522 , 1066.596    ,   26.302685 ,\n",
       "             85.90135  ,   22.908659 ,   34.673687 ,   85.90135  ,\n",
       "           1432.1885   , 1425.6085   ,  809.0959   ,  887.156    ,\n",
       "             57.543964 , 1361.4442   , 2582.2585   , 2290.866    ,\n",
       "           2964.8323   , 2208.0042   ,   96.827805 ,   31.622778 ,\n",
       "             75.85779  ,   91.201096 ,  933.25494  ,   38.018936 ] kpc>"
      ]
     },
     "execution_count": 99,
     "metadata": {},
     "output_type": "execute_result"
    }
   ],
   "source": [
    "dsat.to(u.kpc)"
   ]
  },
  {
   "cell_type": "code",
   "execution_count": 114,
   "id": "fef74047",
   "metadata": {},
   "outputs": [],
   "source": [
    "RA = Angle(list(LV_gal_RA), 'hourangle')"
   ]
  },
  {
   "cell_type": "code",
   "execution_count": 115,
   "id": "66fcb690",
   "metadata": {},
   "outputs": [],
   "source": [
    "DEC = Angle(list(LV_gal_DEC), 'deg')"
   ]
  },
  {
   "cell_type": "code",
   "execution_count": 116,
   "id": "811f0d58",
   "metadata": {},
   "outputs": [],
   "source": [
    "c = coord.SkyCoord(ra=RA, dec=DEC, distance=dsat.to(u.kpc))"
   ]
  },
  {
   "cell_type": "code",
   "execution_count": 117,
   "id": "45e818ef",
   "metadata": {},
   "outputs": [],
   "source": [
    "galcen_frame = coord.Galactocentric()"
   ]
  },
  {
   "cell_type": "code",
   "execution_count": 118,
   "id": "72b9a121",
   "metadata": {},
   "outputs": [],
   "source": [
    "galcen = c.transform_to(galcen_frame)"
   ]
  },
  {
   "cell_type": "code",
   "execution_count": 122,
   "id": "7197f7ba",
   "metadata": {},
   "outputs": [
    {
     "data": {
      "text/latex": [
       "$[1.6336556,~-11.696222,~-12.982729,~\\dots,~-3.3855902,~53.847013,~-27.430188] \\; \\mathrm{kpc}$"
      ],
      "text/plain": [
       "<Quantity [ 1.63365561e+00, -1.16962219e+01, -1.29827285e+01,\n",
       "           -1.07275760e+02, -1.03652900e+01, -4.50400719e+00,\n",
       "            5.05595285e+01,  2.40358306e+01, -7.17730896e+00,\n",
       "           -1.42691512e+01, -1.59902800e+01,  6.40804613e+01,\n",
       "            1.60450194e+02,  4.41853274e+01,  2.54593137e+01,\n",
       "           -2.74673216e+01, -9.44199531e+00, -3.95767893e+00,\n",
       "            5.55128568e+01, -2.95925303e+01,  1.81996249e+00,\n",
       "            1.05491361e+01,  1.64029377e+01, -3.63910912e+02,\n",
       "           -3.66411876e+02, -3.38073799e+02, -4.03640420e+02,\n",
       "           -4.49384272e+02, -1.83728400e+02, -2.58523318e+02,\n",
       "           -3.80919709e+02, -3.46595757e+02, -4.41865421e+02,\n",
       "           -4.06004349e+02, -3.71044496e+02, -3.23659134e+02,\n",
       "           -3.57951812e+02, -2.43730197e+02, -3.56265970e+02,\n",
       "           -4.79121361e+02, -2.65985570e+02, -3.00690465e+02,\n",
       "           -5.25211478e+02, -4.71369862e+02, -3.61394018e+02,\n",
       "           -2.21886299e+02, -3.89545131e+02, -3.56311281e+02,\n",
       "           -4.08029061e+02, -1.97309035e+01, -3.45377190e+02,\n",
       "           -1.48553750e+02, -3.94757458e+02, -6.38760805e+02,\n",
       "           -1.56801650e+02, -1.95600417e+01, -2.28767790e+02,\n",
       "            7.48703133e+02,  2.87086082e+01,  1.51343559e+01,\n",
       "            6.91350822e+00,  3.36068842e+01,  2.83520513e+00,\n",
       "           -1.58424205e+01, -2.49458944e+01, -8.16028968e+00,\n",
       "           -8.13979985e+00,  4.64260469e+01, -5.41757328e+01,\n",
       "           -1.25142460e+02, -1.02997884e+01,  1.15756973e+01,\n",
       "           -5.78362764e+02, -5.62563979e+02,  1.65608075e+02,\n",
       "           -7.49047972e+02, -2.21433295e+01, -4.06143501e+00,\n",
       "            4.07613994e+02,  2.97208878e+02, -9.04153974e+01,\n",
       "           -4.14332714e+01,  3.17495363e+02, -1.33321915e+03,\n",
       "           -1.33321915e+03,  8.45580808e+01,  4.20928327e+01,\n",
       "            1.99769953e+00, -3.92189764e+02, -2.46935691e+02,\n",
       "            1.12187377e+03,  1.97406628e+03,  1.18752140e+03,\n",
       "            1.05967415e+03,  1.10739377e+03, -7.73860399e+02,\n",
       "            1.41811607e+02,  2.96764705e+02,  6.34429157e+02,\n",
       "           -3.57378561e+02, -4.77116439e-01, -1.22935228e+02,\n",
       "           -7.65792371e+01, -1.45534534e+01, -2.21664783e+01,\n",
       "           -4.72119456e+02, -7.31157944e+02, -2.54868559e+02,\n",
       "           -3.95226466e+02, -3.34372343e+02, -3.14133692e+02,\n",
       "           -4.01514802e+02,  1.73001956e+02, -1.71190557e+02,\n",
       "           -5.83749867e+02,  4.10922369e+02,  3.85292447e+02,\n",
       "           -6.52955519e+01, -3.56140353e+00, -8.43712204e+00,\n",
       "            1.48374276e+01,  1.65641239e+01,  9.46565359e+02,\n",
       "            1.72438942e+01, -5.25651919e+00, -1.91781607e+01,\n",
       "           -3.16594897e+01, -3.63372887e+01, -4.50223917e+02,\n",
       "           -6.22125988e+02, -4.85891935e+02,  4.69481048e+02,\n",
       "            2.16152005e+01, -9.67800793e+02, -4.49434518e+02,\n",
       "            6.88389754e+02, -2.23101844e+03,  6.95059345e+02,\n",
       "           -6.06741884e+01, -3.03358101e+01, -2.18849086e+01,\n",
       "           -3.38559019e+00,  5.38470125e+01, -2.74301881e+01] kpc>"
      ]
     },
     "execution_count": 122,
     "metadata": {},
     "output_type": "execute_result"
    }
   ],
   "source": [
    "galcen.x"
   ]
  },
  {
   "cell_type": "code",
   "execution_count": 156,
   "id": "8e8583c0",
   "metadata": {
    "scrolled": false
   },
   "outputs": [
    {
     "data": {
      "application/vnd.jupyter.widget-view+json": {
       "model_id": "4455dd3a808f4c458f9776c8db918713",
       "version_major": 2,
       "version_minor": 0
      },
      "text/plain": [
       "Output()"
      ]
     },
     "metadata": {},
     "output_type": "display_data"
    }
   ],
   "source": [
    "plot = k3d.plot()\n",
    "\n",
    "#vertices = np.vstack([MW_sat_orbits[:,1], MW_sat_orbits[:,2], MW_sat_orbits[:,3]]).T\n",
    "for i in range(len(galcen.x)):\n",
    "    if 'Andromeda' in LV_gal_names[i]:\n",
    "        color = 0xc6884b\n",
    "    else:\n",
    "        color = 0x3f6bc5\n",
    "    plt_points = k3d.points([galcen.x.value[i], galcen.y.value[i], galcen.z.value[i]],\n",
    "                            point_size=30,\n",
    "                            shader='3dSpectacular',\n",
    "                            color=color, group=LV_gal_names[i])\n",
    "    plot += plt_points\n",
    "\n",
    "plt_mw = k3d.points([0,0,0], point_size=280*2, shader='3d',  opacity=0.1)\n",
    "plt_m31 = k3d.points([galcen.x.value[23], galcen.y.value[23], galcen.z.value[23]], color = 0xc6884b,\n",
    "                     point_size=280*2, shader='3d',  opacity=0.1)\n",
    "\n",
    "#plot += plt_line\n",
    "plot += plt_mw\n",
    "plot += plt_m31\n",
    "\n",
    "plot.display()\n"
   ]
  },
  {
   "cell_type": "code",
   "execution_count": 148,
   "id": "a62096cd",
   "metadata": {},
   "outputs": [],
   "source": [
    "k3d.points?"
   ]
  },
  {
   "cell_type": "code",
   "execution_count": null,
   "id": "b78cff69",
   "metadata": {},
   "outputs": [],
   "source": []
  }
 ],
 "metadata": {
  "kernelspec": {
   "display_name": "Python 3 (ipykernel)",
   "language": "python",
   "name": "python3"
  },
  "language_info": {
   "codemirror_mode": {
    "name": "ipython",
    "version": 3
   },
   "file_extension": ".py",
   "mimetype": "text/x-python",
   "name": "python",
   "nbconvert_exporter": "python",
   "pygments_lexer": "ipython3",
   "version": "3.10.6"
  }
 },
 "nbformat": 4,
 "nbformat_minor": 5
}

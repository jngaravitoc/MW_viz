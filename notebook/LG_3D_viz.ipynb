{
 "cells": [
  {
   "cell_type": "code",
   "execution_count": 115,
   "id": "004a8252",
   "metadata": {},
   "outputs": [
    {
     "name": "stdout",
     "output_type": "stream",
     "text": [
      "Populating the interactive namespace from numpy and matplotlib\n"
     ]
    }
   ],
   "source": [
    "%pylab inline\n",
    "import numpy as np\n",
    "import astropy \n",
    "import k3d\n",
    "from astropy.io import fits\n",
    "from astropy import units as u\n",
    "import astropy.coordinates as coord\n",
    "from astropy.coordinates import Angle\n",
    "plt.style.use('~/Work/research/MW_viz/matplotlib.mplstyle')"
   ]
  },
  {
   "cell_type": "code",
   "execution_count": 2,
   "id": "d4644347",
   "metadata": {},
   "outputs": [],
   "source": [
    "#sats_data = fits.util.get_testdata_filepath('../data/NearbyGalaxies_Jan2021_PUBLIC.fits')\n",
    "\n",
    "LV_galaxies = fits.open('../data/NearbyGalaxies_Jan2021_PUBLIC.fits')"
   ]
  },
  {
   "cell_type": "code",
   "execution_count": 3,
   "id": "052ef307",
   "metadata": {},
   "outputs": [
    {
     "name": "stdout",
     "output_type": "stream",
     "text": [
      "Filename: ../data/NearbyGalaxies_Jan2021_PUBLIC.fits\n",
      "No.    Name      Ver    Type      Cards   Dimensions   Format\n",
      "  0  PRIMARY       1 PrimaryHDU      16   (5262,)   uint8   \n",
      "  1  Joined        1 BinTableHDU    125   144R x 49C   [16A, 10A, 11A, E, E, E, E, E, E, E, E, E, E, E, E, E, E, E, E, E, E, E, E, E, E, E, E, E, E, E, E, E, E, E, E, E, E, E, E, E, E, I, E, E, E, E, E, E, 53A]   \n"
     ]
    }
   ],
   "source": [
    "LV_galaxies.info()"
   ]
  },
  {
   "cell_type": "code",
   "execution_count": 5,
   "id": "9abe4ec7",
   "metadata": {},
   "outputs": [],
   "source": [
    "#LV_galaxies[1].header"
   ]
  },
  {
   "cell_type": "code",
   "execution_count": 7,
   "id": "4b669def",
   "metadata": {},
   "outputs": [
    {
     "name": "stderr",
     "output_type": "stream",
     "text": [
      "WARNING: VerifyWarning: It is strongly recommended that column names contain only upper and lower-case ASCII letters, digits, or underscores for maximum compatibility with other software (got '[Fe/H]'). [astropy.io.fits.column]\n"
     ]
    }
   ],
   "source": [
    "data = LV_galaxies[1].data\n",
    "LV_gal_names = data['GalaxyName']\n",
    "LV_gal_RA = data['RA']\n",
    "LV_gal_DEC = data['Dec']\n",
    "LV_gal_dmod = data['dmod']\n",
    "LV_gal_rh = data['rh']"
   ]
  },
  {
   "cell_type": "code",
   "execution_count": 9,
   "id": "445693d6",
   "metadata": {},
   "outputs": [
    {
     "data": {
      "text/plain": [
       "chararray(['*Bootes3', '*CanisMajor', '*Cetus2', '*Columba1', '*Draco2',\n",
       "           '*Eridanus3', '*Grus1', '*Grus2', '*Horologium1',\n",
       "           '*Horologium2', '*Hydra1', '*Indus1', '*Indus2', '*Pegasus3',\n",
       "           '*Phoenix2', '*Pictor1', '*Reticulum2', '*Reticulum3',\n",
       "           '*Sagittarius2', '*Triangulum2', '*Tucana3', '*Tucana4',\n",
       "           '*Tucana5', 'AndromedaI', 'AndromedaII', 'AndromedaIII',\n",
       "           'AndromedaIX', 'AndromedaV', 'AndromedaVI', 'AndromedaVII',\n",
       "           'AndromedaX', 'AndromedaXI', 'AndromedaXII', 'AndromedaXIII',\n",
       "           'AndromedaXIV', 'AndromedaXIX', 'AndromedaXV', 'AndromedaXVI',\n",
       "           'AndromedaXVII', 'AndromedaXVIII', 'AndromedaXX',\n",
       "           'AndromedaXXI', 'AndromedaXXII', 'AndromedaXXIII',\n",
       "           'AndromedaXXIV', 'AndromedaXXIX', 'AndromedaXXV',\n",
       "           'AndromedaXXVI', 'AndromedaXXVII', 'AndromedaXXVIII',\n",
       "           'AndromedaXXX', 'AndromedaXXXI', 'AndromedaXXXII',\n",
       "           'AndromedaXXXIII', 'Antlia', 'Antlia2', 'AntliaB', 'Aquarius',\n",
       "           'Aquarius2', 'Bootes(1)', 'Bootes2', 'Bootes4',\n",
       "           'CanesVenatici(1)', 'CanesVenatici2', 'Carina', 'Carina2',\n",
       "           'Carina3', 'Centaurus1', 'Cetus', 'Cetus3', 'ComaBerenices',\n",
       "           'Crater2', 'DDO113', 'DDO125', 'DDO190', 'DDO99',\n",
       "           '*DESJ0225+0304', 'Draco', 'ESO294-G010', 'ESO410-G005',\n",
       "           'Eridanus2', 'Fornax', 'GR8', 'HIZSS3(A)', 'HIZSS3B',\n",
       "           'Hercules', 'Hydra2', 'Hydrus1', 'IC10', 'IC1613', 'IC3104',\n",
       "           'IC4662', 'IC5152', 'KK258', 'KKH86', 'KKH98', 'KKR25', 'KKR3',\n",
       "           'KKs3', 'LGS3', 'LMC', 'Leo1', 'Leo2', 'Leo4', 'Leo5', 'LeoA',\n",
       "           'LeoP', 'LeoT', 'M32', 'NGC147', 'NGC185', 'NGC205', 'NGC300',\n",
       "           'NGC3109', 'NGC4163', 'NGC55', 'NGC6822', 'PegasusdIrr',\n",
       "           'Phoenix', 'Pictor2', 'Pisces2', 'SMC', 'SagittariusdIrr',\n",
       "           'SagittariusdSph', 'Sculptor', 'Segue(1)', 'Segue2',\n",
       "           'Sextans(1)', 'SextansA', 'SextansB', 'Triangulum', 'Tucana',\n",
       "           'Tucana2', 'UGC4879', 'UGC8508', 'UGC9128', 'UGCA86',\n",
       "           'UKS2323-326', 'UrsaMajor(1)', 'UrsaMajor2', 'UrsaMinor',\n",
       "           'Virgo1', 'WLM', 'Willman1'], dtype='<U16')"
      ]
     },
     "execution_count": 9,
     "metadata": {},
     "output_type": "execute_result"
    }
   ],
   "source": [
    "LV_gal_names"
   ]
  },
  {
   "cell_type": "code",
   "execution_count": 11,
   "id": "4ef6eafc",
   "metadata": {},
   "outputs": [],
   "source": [
    "dsat = (10**(LV_gal_dmod/5 + 1)) * u.pc"
   ]
  },
  {
   "cell_type": "code",
   "execution_count": 21,
   "id": "fef74047",
   "metadata": {},
   "outputs": [],
   "source": [
    "RA = Angle(list(LV_gal_RA), 'hourangle')"
   ]
  },
  {
   "cell_type": "code",
   "execution_count": 22,
   "id": "66fcb690",
   "metadata": {},
   "outputs": [],
   "source": [
    "DEC = Angle(list(LV_gal_DEC), 'deg')"
   ]
  },
  {
   "cell_type": "code",
   "execution_count": 23,
   "id": "811f0d58",
   "metadata": {},
   "outputs": [],
   "source": [
    "c = coord.SkyCoord(ra=RA, dec=DEC, distance=dsat.to(u.kpc))"
   ]
  },
  {
   "cell_type": "code",
   "execution_count": 24,
   "id": "45e818ef",
   "metadata": {},
   "outputs": [],
   "source": [
    "galcen_frame = coord.Galactocentric()"
   ]
  },
  {
   "cell_type": "code",
   "execution_count": 42,
   "id": "72b9a121",
   "metadata": {},
   "outputs": [],
   "source": [
    "sat_galcen = c.transform_to(galcen_frame)"
   ]
  },
  {
   "cell_type": "code",
   "execution_count": 38,
   "id": "7197f7ba",
   "metadata": {},
   "outputs": [],
   "source": [
    "M31 = coord.SkyCoord(ra=\"00h42m44.3s\", dec=\"+41d16m9s\", distance=765*u.kpc)\n",
    "M31_galcen = M31.transform_to(galcen_frame)"
   ]
  },
  {
   "cell_type": "code",
   "execution_count": 51,
   "id": "fa2a3f0a",
   "metadata": {},
   "outputs": [],
   "source": [
    "sat_galcen_xyz = np.sqrt(sat_galcen.x**2 + sat_galcen.y**2 + sat_galcen.z**2) "
   ]
  },
  {
   "cell_type": "code",
   "execution_count": 57,
   "id": "ecee9c6f",
   "metadata": {},
   "outputs": [
    {
     "data": {
      "text/plain": [
       "array([  45.79455368,   13.26593605,   28.90820174,  186.51017674,\n",
       "         23.84543103,   87.11974432,  116.45978708,   48.4488641 ,\n",
       "         79.73393745,   79.02237322,   18.85399811,   94.28849764,\n",
       "        207.43933925,  203.18273573,   80.22339947,  116.44597977,\n",
       "         31.59844361,   91.59799023,   66.15690387,   36.41756789,\n",
       "         23.24635044,   45.53124893,   52.09285754,  748.63796216,\n",
       "        656.11940387,  751.77777026,  769.81678027,  777.34218822,\n",
       "        785.2779687 ,  764.78257465,  674.43159189,  738.28209595,\n",
       "        932.77633293,  843.33015301,  798.06075585,  823.5003128 ,\n",
       "        629.74499903,  480.48896806,  731.69334234, 1216.55886488,\n",
       "        744.16494642,  830.84062217,  925.024685  ,  774.04153182,\n",
       "        604.60461774,  733.54401994,  816.66738377,  765.81871207,\n",
       "        831.88987504,  660.87823065,  686.38495905,  760.11727916,\n",
       "        780.32099292,  779.31823107, 1349.89047731,  132.78117316,\n",
       "       1295.61270553, 1065.78663334,  105.12797402,   64.00256024,\n",
       "         39.51135613,  207.47702826,  217.53427596,  160.57347185,\n",
       "        106.78884029,   37.04480714,   28.95861149,  112.84319675,\n",
       "        755.61091622,  255.05582961,   44.8175401 ,  116.41788451,\n",
       "       2952.81163336, 2584.03448931, 2792.06993063, 2596.53093967,\n",
       "         29.2896926 ,   75.86968271, 2030.69150317, 1921.79807866,\n",
       "        382.01347294,  149.2600561 , 2176.53209013, 1681.37581979,\n",
       "       1681.37581979,  126.26068449,  131.46583623,   25.68024003,\n",
       "        798.2860506 ,  757.68180346, 2265.8260266 , 2436.84005394,\n",
       "       1944.85862388, 2340.52158667, 2578.77878771, 2525.94924845,\n",
       "       1922.48981027, 2186.66539175, 2115.89647045,  772.83921619,\n",
       "         49.99226624,  257.30883578,  235.87543821,  154.73918435,\n",
       "        196.65135465,  802.7608618 , 1625.46440801,  421.74175957,\n",
       "        809.3061613 ,  680.03436631,  620.66076137,  828.03818771,\n",
       "       2078.98397658, 1301.22095635, 2859.26023709, 1930.20392151,\n",
       "        452.25197065,  920.97494714,  409.23135362,   46.47156177,\n",
       "        181.953194  ,   61.28390874, 1059.32641191,   18.58724875,\n",
       "         85.99368877,   27.76878481,   40.61631931,   88.91425066,\n",
       "       1434.72977396, 1429.1398008 ,  813.90757407,  882.79464419,\n",
       "         53.78036623, 1367.19564449, 2583.67724334, 2288.42926167,\n",
       "       2970.9304981 , 2205.41130069,  101.48166039,   37.78372015,\n",
       "         77.75705999,   91.15909932,  932.73087276,   42.73608755])"
      ]
     },
     "execution_count": 57,
     "metadata": {},
     "output_type": "execute_result"
    }
   ],
   "source": [
    "sat_galcen_xyz.value"
   ]
  },
  {
   "cell_type": "code",
   "execution_count": 106,
   "id": "fd131e5d",
   "metadata": {},
   "outputs": [],
   "source": [
    "# Satellite membership classification:\n",
    "sat_membership = list(arange(0, len(dsat)))\n",
    "MW_membership = []\n",
    "M31_membership = []\n",
    "LG_membership = []\n",
    "for s in range(len(dsat)):\n",
    "    if sat_galcen_xyz.value[s] < 300:\n",
    "        sat_membership[s] = 'MW'\n",
    "        MW_membership.append(s)\n",
    "    elif sat_galcen.separation_3d(M31_galcen).value[s] < 300:\n",
    "        sat_membership[s] = 'M31'\n",
    "        M31_membership.append(s)\n",
    "    else:\n",
    "        sat_membership[s] = 'LG'\n",
    "        LG_membership.append(s)"
   ]
  },
  {
   "cell_type": "code",
   "execution_count": 116,
   "id": "6792b4e3",
   "metadata": {},
   "outputs": [
    {
     "data": {
      "text/plain": [
       "(array([ 62.,  68., 105., 111., 118., 121., 127., 134., 140., 144.]),\n",
       " array([  13.26593605,  309.03239225,  604.79884846,  900.56530466,\n",
       "        1196.33176087, 1492.09821707, 1787.86467328, 2083.63112948,\n",
       "        2379.39758569, 2675.16404189, 2970.9304981 ]),\n",
       " [<matplotlib.patches.Polygon at 0x7f0dd2561690>])"
      ]
     },
     "execution_count": 116,
     "metadata": {},
     "output_type": "execute_result"
    },
    {
     "data": {
      "image/png": "[encoded data removed]",
      "text/plain": [
       "<Figure size 432x302.4 with 1 Axes>"
      ]
     },
     "metadata": {
      "needs_background": "light"
     },
     "output_type": "display_data"
    }
   ],
   "source": [
    "plt.hist(sat_galcen_xyz[MW_membership].value, cumulative=True, histtype='step')\n",
    "plt.hist(sat_galcen_xyz[M31_membership].value, cumulative=True, histtype='step')\n",
    "plt.hist(sat_galcen_xyz[LG_membership].value, cumulative=True, histtype='step')\n",
    "plt.hist(sat_galcen_xyz.value, cumulative=True, histtype='step')"
   ]
  },
  {
   "cell_type": "code",
   "execution_count": 129,
   "id": "8e8583c0",
   "metadata": {
    "scrolled": true
   },
   "outputs": [
    {
     "data": {
      "application/vnd.jupyter.widget-view+json": {
       "model_id": "7a28ebe7cda84ef0a2790651c4acb614",
       "version_major": 2,
       "version_minor": 0
      },
      "text/plain": [
       "Output()"
      ]
     },
     "metadata": {},
     "output_type": "display_data"
    }
   ],
   "source": [
    "plot = k3d.plot(grid_visible=False,\n",
    "                camera_auto_fit=False)\n",
    "\n",
    "#vertices = np.vstack([MW_sat_orbits[:,1], MW_sat_orbits[:,2], MW_sat_orbits[:,3]]).T\n",
    "for i in range(len(galcen.x)):\n",
    "    if sat_membership[i] =='MW':\n",
    "        color = 0xc6884b\n",
    "    elif sat_membership[i] == 'M31':\n",
    "        color = 0x3f6bc5\n",
    "    else: \n",
    "        color = 0x3e3a3a\n",
    "    plt_points = k3d.points([galcen.x.value[i], galcen.y.value[i], galcen.z.value[i]],\n",
    "                            point_size=30,\n",
    "                            color=color, name=LV_gal_names[i], group=sat_membership[i])\n",
    "    plot += plt_points\n",
    "\n",
    "plt_mw = k3d.points([0,0,0], point_size=280*2, shader='3d',  opacity=0.1)\n",
    "plt_m31 = k3d.points([galcen.x.value[23], galcen.y.value[23], galcen.z.value[23]], color = 0xc6884b,\n",
    "                     point_size=280*2, shader='3d',  opacity=0.1)\n",
    "\n",
    "#plot += plt_line\n",
    "plot += plt_mw\n",
    "plot += plt_m31\n",
    "\n",
    "plot.display()\n",
    "#plot.camera= [1000, 0, 0,\n",
    "#              0,0,0,\n",
    "#              0,0,0]\n"
   ]
  },
  {
   "cell_type": "code",
   "execution_count": 119,
   "id": "a62096cd",
   "metadata": {},
   "outputs": [],
   "source": [
    "k3d.points?"
   ]
  },
  {
   "cell_type": "code",
   "execution_count": null,
   "id": "b78cff69",
   "metadata": {},
   "outputs": [],
   "source": []
  },
  {
   "cell_type": "code",
   "execution_count": null,
   "id": "b381b97c",
   "metadata": {},
   "outputs": [],
   "source": []
  }
 ],
 "metadata": {
  "kernelspec": {
   "display_name": "Python 3 (ipykernel)",
   "language": "python",
   "name": "python3"
  },
  "language_info": {
   "codemirror_mode": {
    "name": "ipython",
    "version": 3
   },
   "file_extension": ".py",
   "mimetype": "text/x-python",
   "name": "python",
   "nbconvert_exporter": "python",
   "pygments_lexer": "ipython3",
   "version": "3.10.6"
  }
 },
 "nbformat": 4,
 "nbformat_minor": 5
}
